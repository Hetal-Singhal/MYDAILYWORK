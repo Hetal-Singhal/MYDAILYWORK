{
 "cells": [
  {
   "cell_type": "markdown",
   "id": "9a17edcd-82a5-467b-933b-afc852e789c0",
   "metadata": {},
   "source": [
    "IMPORTING LIBRARIES"
   ]
  },
  {
   "cell_type": "code",
   "execution_count": 2,
   "id": "e6296fa6-c53c-4f48-89df-748d3b52804c",
   "metadata": {},
   "outputs": [],
   "source": [
    "import numpy as np\n",
    "import pandas as pd"
   ]
  },
  {
   "cell_type": "markdown",
   "id": "649c694a-caa4-40a8-acab-23f85ad86c3f",
   "metadata": {},
   "source": [
    "READING AND UNDERSTANDING DATA"
   ]
  },
  {
   "cell_type": "code",
   "execution_count": 5,
   "id": "50a17922-45b0-455a-bb9d-ac3f1b3f4fa7",
   "metadata": {},
   "outputs": [
    {
     "data": {
      "text/html": [
       "<div>\n",
       "<style scoped>\n",
       "    .dataframe tbody tr th:only-of-type {\n",
       "        vertical-align: middle;\n",
       "    }\n",
       "\n",
       "    .dataframe tbody tr th {\n",
       "        vertical-align: top;\n",
       "    }\n",
       "\n",
       "    .dataframe thead th {\n",
       "        text-align: right;\n",
       "    }\n",
       "</style>\n",
       "<table border=\"1\" class=\"dataframe\">\n",
       "  <thead>\n",
       "    <tr style=\"text-align: right;\">\n",
       "      <th></th>\n",
       "      <th>sepal_length</th>\n",
       "      <th>sepal_width</th>\n",
       "      <th>petal_length</th>\n",
       "      <th>petal_width</th>\n",
       "      <th>species</th>\n",
       "    </tr>\n",
       "  </thead>\n",
       "  <tbody>\n",
       "    <tr>\n",
       "      <th>0</th>\n",
       "      <td>5.1</td>\n",
       "      <td>3.5</td>\n",
       "      <td>1.4</td>\n",
       "      <td>0.2</td>\n",
       "      <td>Iris-setosa</td>\n",
       "    </tr>\n",
       "    <tr>\n",
       "      <th>1</th>\n",
       "      <td>4.9</td>\n",
       "      <td>3.0</td>\n",
       "      <td>1.4</td>\n",
       "      <td>0.2</td>\n",
       "      <td>Iris-setosa</td>\n",
       "    </tr>\n",
       "    <tr>\n",
       "      <th>2</th>\n",
       "      <td>4.7</td>\n",
       "      <td>3.2</td>\n",
       "      <td>1.3</td>\n",
       "      <td>0.2</td>\n",
       "      <td>Iris-setosa</td>\n",
       "    </tr>\n",
       "    <tr>\n",
       "      <th>3</th>\n",
       "      <td>4.6</td>\n",
       "      <td>3.1</td>\n",
       "      <td>1.5</td>\n",
       "      <td>0.2</td>\n",
       "      <td>Iris-setosa</td>\n",
       "    </tr>\n",
       "    <tr>\n",
       "      <th>4</th>\n",
       "      <td>5.0</td>\n",
       "      <td>3.6</td>\n",
       "      <td>1.4</td>\n",
       "      <td>0.2</td>\n",
       "      <td>Iris-setosa</td>\n",
       "    </tr>\n",
       "  </tbody>\n",
       "</table>\n",
       "</div>"
      ],
      "text/plain": [
       "   sepal_length  sepal_width  petal_length  petal_width      species\n",
       "0           5.1          3.5           1.4          0.2  Iris-setosa\n",
       "1           4.9          3.0           1.4          0.2  Iris-setosa\n",
       "2           4.7          3.2           1.3          0.2  Iris-setosa\n",
       "3           4.6          3.1           1.5          0.2  Iris-setosa\n",
       "4           5.0          3.6           1.4          0.2  Iris-setosa"
      ]
     },
     "execution_count": 5,
     "metadata": {},
     "output_type": "execute_result"
    }
   ],
   "source": [
    "data=pd.read_csv(\"C:\\\\Users\\\\hsing\\\\Downloads\\\\iris\\\\IRIS.csv\")\n",
    "data.head()"
   ]
  },
  {
   "cell_type": "code",
   "execution_count": 7,
   "id": "5669a00b-e167-42e5-bd17-e83c858ecbc3",
   "metadata": {},
   "outputs": [
    {
     "name": "stdout",
     "output_type": "stream",
     "text": [
      "<class 'pandas.core.frame.DataFrame'>\n",
      "RangeIndex: 150 entries, 0 to 149\n",
      "Data columns (total 5 columns):\n",
      " #   Column        Non-Null Count  Dtype  \n",
      "---  ------        --------------  -----  \n",
      " 0   sepal_length  150 non-null    float64\n",
      " 1   sepal_width   150 non-null    float64\n",
      " 2   petal_length  150 non-null    float64\n",
      " 3   petal_width   150 non-null    float64\n",
      " 4   species       150 non-null    object \n",
      "dtypes: float64(4), object(1)\n",
      "memory usage: 6.0+ KB\n"
     ]
    }
   ],
   "source": [
    "data.info()"
   ]
  },
  {
   "cell_type": "code",
   "execution_count": 9,
   "id": "0bb49b33-b2a3-4519-b6e9-2c489bb2e4ba",
   "metadata": {},
   "outputs": [
    {
     "data": {
      "text/plain": [
       "species\n",
       "Iris-setosa        50\n",
       "Iris-versicolor    50\n",
       "Iris-virginica     50\n",
       "Name: count, dtype: int64"
      ]
     },
     "execution_count": 9,
     "metadata": {},
     "output_type": "execute_result"
    }
   ],
   "source": [
    "data['species'].value_counts()"
   ]
  },
  {
   "cell_type": "code",
   "execution_count": 11,
   "id": "63417de9-0148-49e4-8156-daddde21872b",
   "metadata": {},
   "outputs": [
    {
     "data": {
      "text/html": [
       "<div>\n",
       "<style scoped>\n",
       "    .dataframe tbody tr th:only-of-type {\n",
       "        vertical-align: middle;\n",
       "    }\n",
       "\n",
       "    .dataframe tbody tr th {\n",
       "        vertical-align: top;\n",
       "    }\n",
       "\n",
       "    .dataframe thead th {\n",
       "        text-align: right;\n",
       "    }\n",
       "</style>\n",
       "<table border=\"1\" class=\"dataframe\">\n",
       "  <thead>\n",
       "    <tr style=\"text-align: right;\">\n",
       "      <th></th>\n",
       "      <th>sepal_length</th>\n",
       "      <th>sepal_width</th>\n",
       "      <th>petal_length</th>\n",
       "      <th>petal_width</th>\n",
       "    </tr>\n",
       "  </thead>\n",
       "  <tbody>\n",
       "    <tr>\n",
       "      <th>count</th>\n",
       "      <td>150.000000</td>\n",
       "      <td>150.000000</td>\n",
       "      <td>150.000000</td>\n",
       "      <td>150.000000</td>\n",
       "    </tr>\n",
       "    <tr>\n",
       "      <th>mean</th>\n",
       "      <td>5.843333</td>\n",
       "      <td>3.054000</td>\n",
       "      <td>3.758667</td>\n",
       "      <td>1.198667</td>\n",
       "    </tr>\n",
       "    <tr>\n",
       "      <th>std</th>\n",
       "      <td>0.828066</td>\n",
       "      <td>0.433594</td>\n",
       "      <td>1.764420</td>\n",
       "      <td>0.763161</td>\n",
       "    </tr>\n",
       "    <tr>\n",
       "      <th>min</th>\n",
       "      <td>4.300000</td>\n",
       "      <td>2.000000</td>\n",
       "      <td>1.000000</td>\n",
       "      <td>0.100000</td>\n",
       "    </tr>\n",
       "    <tr>\n",
       "      <th>25%</th>\n",
       "      <td>5.100000</td>\n",
       "      <td>2.800000</td>\n",
       "      <td>1.600000</td>\n",
       "      <td>0.300000</td>\n",
       "    </tr>\n",
       "    <tr>\n",
       "      <th>50%</th>\n",
       "      <td>5.800000</td>\n",
       "      <td>3.000000</td>\n",
       "      <td>4.350000</td>\n",
       "      <td>1.300000</td>\n",
       "    </tr>\n",
       "    <tr>\n",
       "      <th>75%</th>\n",
       "      <td>6.400000</td>\n",
       "      <td>3.300000</td>\n",
       "      <td>5.100000</td>\n",
       "      <td>1.800000</td>\n",
       "    </tr>\n",
       "    <tr>\n",
       "      <th>max</th>\n",
       "      <td>7.900000</td>\n",
       "      <td>4.400000</td>\n",
       "      <td>6.900000</td>\n",
       "      <td>2.500000</td>\n",
       "    </tr>\n",
       "  </tbody>\n",
       "</table>\n",
       "</div>"
      ],
      "text/plain": [
       "       sepal_length  sepal_width  petal_length  petal_width\n",
       "count    150.000000   150.000000    150.000000   150.000000\n",
       "mean       5.843333     3.054000      3.758667     1.198667\n",
       "std        0.828066     0.433594      1.764420     0.763161\n",
       "min        4.300000     2.000000      1.000000     0.100000\n",
       "25%        5.100000     2.800000      1.600000     0.300000\n",
       "50%        5.800000     3.000000      4.350000     1.300000\n",
       "75%        6.400000     3.300000      5.100000     1.800000\n",
       "max        7.900000     4.400000      6.900000     2.500000"
      ]
     },
     "execution_count": 11,
     "metadata": {},
     "output_type": "execute_result"
    }
   ],
   "source": [
    "data.describe()"
   ]
  },
  {
   "cell_type": "code",
   "execution_count": 13,
   "id": "af4c32ec-c840-4ff8-8592-92d5a441851a",
   "metadata": {},
   "outputs": [
    {
     "data": {
      "text/plain": [
       "sepal_length    0\n",
       "sepal_width     0\n",
       "petal_length    0\n",
       "petal_width     0\n",
       "species         0\n",
       "dtype: int64"
      ]
     },
     "execution_count": 13,
     "metadata": {},
     "output_type": "execute_result"
    }
   ],
   "source": [
    "data.isna().sum()"
   ]
  },
  {
   "cell_type": "markdown",
   "id": "3d9ba408-9ea7-4a01-aaac-84f357b1569c",
   "metadata": {},
   "source": [
    "DATASET CONTAINS NO NULL VALUES"
   ]
  },
  {
   "cell_type": "code",
   "execution_count": 15,
   "id": "d2ababec-9a6c-4204-9efc-4d389526d253",
   "metadata": {},
   "outputs": [
    {
     "name": "stdout",
     "output_type": "stream",
     "text": [
      "Number of rows are:  150\n",
      "Number of columns are:  5\n"
     ]
    }
   ],
   "source": [
    "print(\"Number of rows are: \",data.shape[0])\n",
    "print(\"Number of columns are: \",data.shape[1])"
   ]
  },
  {
   "cell_type": "markdown",
   "id": "08ee9db4-3522-4b4d-b3f1-557414590e7b",
   "metadata": {},
   "source": [
    "DATA PREPROCESSING"
   ]
  },
  {
   "cell_type": "code",
   "execution_count": 17,
   "id": "ddb99e8e-65d5-41ab-bfdc-6d692cf8efbf",
   "metadata": {},
   "outputs": [
    {
     "data": {
      "text/plain": [
       "3"
      ]
     },
     "execution_count": 17,
     "metadata": {},
     "output_type": "execute_result"
    }
   ],
   "source": [
    "data.duplicated().sum()"
   ]
  },
  {
   "cell_type": "code",
   "execution_count": 19,
   "id": "a06e0d5f-3002-4bc3-a14f-b155175702f7",
   "metadata": {},
   "outputs": [
    {
     "data": {
      "text/html": [
       "<div>\n",
       "<style scoped>\n",
       "    .dataframe tbody tr th:only-of-type {\n",
       "        vertical-align: middle;\n",
       "    }\n",
       "\n",
       "    .dataframe tbody tr th {\n",
       "        vertical-align: top;\n",
       "    }\n",
       "\n",
       "    .dataframe thead th {\n",
       "        text-align: right;\n",
       "    }\n",
       "</style>\n",
       "<table border=\"1\" class=\"dataframe\">\n",
       "  <thead>\n",
       "    <tr style=\"text-align: right;\">\n",
       "      <th></th>\n",
       "      <th>sepal_length</th>\n",
       "      <th>sepal_width</th>\n",
       "      <th>petal_length</th>\n",
       "      <th>petal_width</th>\n",
       "      <th>species</th>\n",
       "    </tr>\n",
       "  </thead>\n",
       "  <tbody>\n",
       "    <tr>\n",
       "      <th>0</th>\n",
       "      <td>5.1</td>\n",
       "      <td>3.5</td>\n",
       "      <td>1.4</td>\n",
       "      <td>0.2</td>\n",
       "      <td>Iris-setosa</td>\n",
       "    </tr>\n",
       "    <tr>\n",
       "      <th>1</th>\n",
       "      <td>4.9</td>\n",
       "      <td>3.0</td>\n",
       "      <td>1.4</td>\n",
       "      <td>0.2</td>\n",
       "      <td>Iris-setosa</td>\n",
       "    </tr>\n",
       "    <tr>\n",
       "      <th>2</th>\n",
       "      <td>4.7</td>\n",
       "      <td>3.2</td>\n",
       "      <td>1.3</td>\n",
       "      <td>0.2</td>\n",
       "      <td>Iris-setosa</td>\n",
       "    </tr>\n",
       "    <tr>\n",
       "      <th>3</th>\n",
       "      <td>4.6</td>\n",
       "      <td>3.1</td>\n",
       "      <td>1.5</td>\n",
       "      <td>0.2</td>\n",
       "      <td>Iris-setosa</td>\n",
       "    </tr>\n",
       "    <tr>\n",
       "      <th>4</th>\n",
       "      <td>5.0</td>\n",
       "      <td>3.6</td>\n",
       "      <td>1.4</td>\n",
       "      <td>0.2</td>\n",
       "      <td>Iris-setosa</td>\n",
       "    </tr>\n",
       "    <tr>\n",
       "      <th>...</th>\n",
       "      <td>...</td>\n",
       "      <td>...</td>\n",
       "      <td>...</td>\n",
       "      <td>...</td>\n",
       "      <td>...</td>\n",
       "    </tr>\n",
       "    <tr>\n",
       "      <th>145</th>\n",
       "      <td>6.7</td>\n",
       "      <td>3.0</td>\n",
       "      <td>5.2</td>\n",
       "      <td>2.3</td>\n",
       "      <td>Iris-virginica</td>\n",
       "    </tr>\n",
       "    <tr>\n",
       "      <th>146</th>\n",
       "      <td>6.3</td>\n",
       "      <td>2.5</td>\n",
       "      <td>5.0</td>\n",
       "      <td>1.9</td>\n",
       "      <td>Iris-virginica</td>\n",
       "    </tr>\n",
       "    <tr>\n",
       "      <th>147</th>\n",
       "      <td>6.5</td>\n",
       "      <td>3.0</td>\n",
       "      <td>5.2</td>\n",
       "      <td>2.0</td>\n",
       "      <td>Iris-virginica</td>\n",
       "    </tr>\n",
       "    <tr>\n",
       "      <th>148</th>\n",
       "      <td>6.2</td>\n",
       "      <td>3.4</td>\n",
       "      <td>5.4</td>\n",
       "      <td>2.3</td>\n",
       "      <td>Iris-virginica</td>\n",
       "    </tr>\n",
       "    <tr>\n",
       "      <th>149</th>\n",
       "      <td>5.9</td>\n",
       "      <td>3.0</td>\n",
       "      <td>5.1</td>\n",
       "      <td>1.8</td>\n",
       "      <td>Iris-virginica</td>\n",
       "    </tr>\n",
       "  </tbody>\n",
       "</table>\n",
       "<p>147 rows × 5 columns</p>\n",
       "</div>"
      ],
      "text/plain": [
       "     sepal_length  sepal_width  petal_length  petal_width         species\n",
       "0             5.1          3.5           1.4          0.2     Iris-setosa\n",
       "1             4.9          3.0           1.4          0.2     Iris-setosa\n",
       "2             4.7          3.2           1.3          0.2     Iris-setosa\n",
       "3             4.6          3.1           1.5          0.2     Iris-setosa\n",
       "4             5.0          3.6           1.4          0.2     Iris-setosa\n",
       "..            ...          ...           ...          ...             ...\n",
       "145           6.7          3.0           5.2          2.3  Iris-virginica\n",
       "146           6.3          2.5           5.0          1.9  Iris-virginica\n",
       "147           6.5          3.0           5.2          2.0  Iris-virginica\n",
       "148           6.2          3.4           5.4          2.3  Iris-virginica\n",
       "149           5.9          3.0           5.1          1.8  Iris-virginica\n",
       "\n",
       "[147 rows x 5 columns]"
      ]
     },
     "execution_count": 19,
     "metadata": {},
     "output_type": "execute_result"
    }
   ],
   "source": [
    "data.drop_duplicates()"
   ]
  },
  {
   "cell_type": "code",
   "execution_count": 21,
   "id": "8249c56f-3c2e-4d32-abdb-230b244d0e53",
   "metadata": {},
   "outputs": [
    {
     "data": {
      "text/plain": [
       "Index(['sepal_length', 'sepal_width', 'petal_length', 'petal_width',\n",
       "       'species'],\n",
       "      dtype='object')"
      ]
     },
     "execution_count": 21,
     "metadata": {},
     "output_type": "execute_result"
    }
   ],
   "source": [
    "data.columns"
   ]
  },
  {
   "cell_type": "code",
   "execution_count": 23,
   "id": "76c1e018-ad4d-423f-9cc8-6977eff1fe1e",
   "metadata": {},
   "outputs": [
    {
     "name": "stdout",
     "output_type": "stream",
     "text": [
      "No. of unique values in sepal_length is 35\n",
      "No. of unique values in sepal_width is 23\n",
      "No. of unique values in petal_length is 43\n",
      "No. of unique values in petal_width is 22\n",
      "No. of unique values in species is 3\n"
     ]
    }
   ],
   "source": [
    "for i in data.columns.tolist():\n",
    "  print(\"No. of unique values in\",i,\"is\",data[i].nunique())"
   ]
  },
  {
   "cell_type": "markdown",
   "id": "91903be7-0ffb-4a77-b20e-4bb56f84e5ac",
   "metadata": {},
   "source": [
    "DATA WRANGLING"
   ]
  },
  {
   "cell_type": "markdown",
   "id": "e582534d-0e19-4aeb-91ee-b2e1f1b0694b",
   "metadata": {},
   "source": [
    "DATA VISUALIZATION, STORYTELLING AND EXPERIMENTING WITH CHARTS"
   ]
  },
  {
   "cell_type": "code",
   "execution_count": 27,
   "id": "457dc29a-74d4-4762-a54f-8d2cbc35b29a",
   "metadata": {},
   "outputs": [],
   "source": [
    "import matplotlib.pyplot as plt\n",
    "import seaborn as sns"
   ]
  },
  {
   "cell_type": "code",
   "execution_count": 29,
   "id": "5216aab1-4ff4-4500-b35e-298971fb55c8",
   "metadata": {},
   "outputs": [
    {
     "data": {
      "image/png": "[encoded data removed]",
      "text/plain": [
       "<Figure size 800x600 with 4 Axes>"
      ]
     },
     "metadata": {},
     "output_type": "display_data"
    }
   ],
   "source": [
    "# Chart - 1 Histogram visualization code for distribution of numerical variables\n",
    "# Create a figure with subplots\n",
    "plt.figure(figsize=(8, 6))\n",
    "plt.suptitle('Distribution of Iris Flower Measurements', fontsize=14)\n",
    "plt.subplot(2, 2, 1)  # Subplot 1 (Top-Left)\n",
    "plt.hist(data['sepal_length'])\n",
    "plt.title('Sepal length Distribution')\n",
    "\n",
    "plt.subplot(2, 2, 2)  # Subplot 2 (Top-Right)\n",
    "plt.hist(data['sepal_width'])\n",
    "plt.title('Sepal Width Distribution')\n",
    "\n",
    "plt.subplot(2, 2, 3)  # Subplot 3 (Bottom-Left)\n",
    "plt.hist(data['petal_length'])\n",
    "plt.title('Petal Length Distribution')\n",
    "\n",
    "plt.subplot(2, 2, 4)  # Subplot 4 (Bottom-Right)\n",
    "plt.hist(data['petal_width'])\n",
    "plt.title('Petal Width Distribution')\n",
    "\n",
    "# Display the subplots\n",
    "plt.tight_layout()  # Helps in adjusting the layout\n",
    "plt.show()"
   ]
  },
  {
   "cell_type": "code",
   "execution_count": 31,
   "id": "6eaa5dd4-a027-430c-9eb3-980cb91f4de9",
   "metadata": {},
   "outputs": [],
   "source": [
    "# Define colors for each species and the corresponding species labels.\n",
    "colors = ['red', 'yellow', 'green']\n",
    "species = ['Iris-setosa', 'Iris-versicolor', 'Iris-virginica']"
   ]
  },
  {
   "cell_type": "code",
   "execution_count": 33,
   "id": "8f56041f-e18a-4758-85a8-835d2f41bc15",
   "metadata": {},
   "outputs": [
    {
     "data": {
      "image/png": "[encoded data removed]",
      "text/plain": [
       "<Figure size 640x480 with 1 Axes>"
      ]
     },
     "metadata": {},
     "output_type": "display_data"
    }
   ],
   "source": [
    "# Chart - 2 Scatter plot visualization code for Sepal Length vs Sepal Width.\n",
    "# Create a scatter plot for Sepal Length vs Sepal Width for each species.\n",
    "for i in range(3):\n",
    "    # Select data for the current species.\n",
    "    x = data[data['species'] == species[i]]\n",
    "\n",
    "    # Create a scatter plot with the specified color and label for the current species.\n",
    "    plt.scatter(x['sepal_length'], x['sepal_width'], c=colors[i], label=species[i])\n",
    "\n",
    "# Add labels to the x and y axes.\n",
    "plt.xlabel('Sepal Length')\n",
    "plt.ylabel('Sepal Width')\n",
    "\n",
    "# Add a legend to identify species based on colors.\n",
    "plt.legend()\n",
    "\n",
    "# Display the scatter plot.\n",
    "plt.show()"
   ]
  },
  {
   "cell_type": "code",
   "execution_count": 35,
   "id": "5b5dda55-8130-41d2-a891-d9f1f98eed2f",
   "metadata": {},
   "outputs": [
    {
     "data": {
      "image/png": "[encoded data removed]",
      "text/plain": [
       "<Figure size 640x480 with 1 Axes>"
      ]
     },
     "metadata": {},
     "output_type": "display_data"
    }
   ],
   "source": [
    "# Chart - 3 Scatter plot visualization code for Petal Length vs Petal Width.\n",
    "# Create a scatter plot for Petal Length vs Petal Width for each species.\n",
    "for i in range(3):\n",
    "    # Select data for the current species.\n",
    "    x = data[data['species'] == species[i]]\n",
    "\n",
    "    # Create a scatter plot with the specified color and label for the current species\n",
    "plt.scatter(x['petal_length'], x['petal_width'], c=colors[i], label=species[i])\n",
    "\n",
    "# Add labels to the x and y axes.\n",
    "plt.xlabel('Petal Length')\n",
    "plt.ylabel('Petal Width')\n",
    "\n",
    "# Add a legend to identify species based on colors.\n",
    "plt.legend()\n",
    "\n",
    "# Display the scatter plot.\n",
    "plt.show()"
   ]
  },
  {
   "cell_type": "code",
   "execution_count": 37,
   "id": "88c91b9a-6e4a-4f3d-baf9-b31a6097eca8",
   "metadata": {},
   "outputs": [
    {
     "data": {
      "image/png": "[encoded data removed]",
      "text/plain": [
       "<Figure size 640x480 with 1 Axes>"
      ]
     },
     "metadata": {},
     "output_type": "display_data"
    }
   ],
   "source": [
    "# Chart - 4 Scatter plot visualization code for Sepal Length vs Petal Length.\n",
    "# Create a scatter plot for Sepal Length vs Petal Length for each species.\n",
    "for i in range(3):\n",
    "    # Select data for the current species.\n",
    "    x = data[data['species'] == species[i]]\n",
    "\n",
    "    # Create a scatter plot with the specified color and label for the current species.\n",
    "    plt.scatter(x['sepal_length'], x['petal_length'], c=colors[i], label=species[i])\n",
    "\n",
    "# Add labels to the x and y axes.\n",
    "plt.xlabel('Sepal Length')\n",
    "plt.ylabel('Petal Length')\n",
    "\n",
    "# Add a legend to identify species based on colors.\n",
    "plt.legend()\n",
    "\n",
    "# Display the scatter plot.\n",
    "plt.show()"
   ]
  },
  {
   "cell_type": "code",
   "execution_count": 39,
   "id": "45b96d89-da70-429f-867f-dd81eaff9dd3",
   "metadata": {},
   "outputs": [
    {
     "data": {
      "image/png": "[encoded data removed]",
      "text/plain": [
       "<Figure size 640x480 with 1 Axes>"
      ]
     },
     "metadata": {},
     "output_type": "display_data"
    }
   ],
   "source": [
    "# Chart - 5 Scatter plot visualization code for Sepal Width vs Petal Width.\n",
    "# Create a scatter plot for Sepal Width vs Petal Width for each species.\n",
    "for i in range(3):\n",
    "    # Select data for the current species.\n",
    "    x = data[data['species'] == species[i]]\n",
    "\n",
    "    # Create a scatter plot with the specified color and label for the current species.\n",
    "    plt.scatter(x['sepal_width'], x['petal_width'], c=colors[i], label=species[i])\n",
    "\n",
    "# Add labels to the x and y axes.\n",
    "plt.xlabel('Sepal Width')\n",
    "plt.ylabel('Petal Width')\n",
    "\n",
    "# Add a legend to identify species based on colors.\n",
    "plt.legend()\n",
    "\n",
    "# Display the scatter plot.\n",
    "plt.show()"
   ]
  },
  {
   "cell_type": "code",
   "execution_count": 41,
   "id": "54d27005-d1ba-4000-b4dc-9097f4b46387",
   "metadata": {},
   "outputs": [
    {
     "data": {
      "image/png": "[encoded data removed]",
      "text/plain": [
       "<Figure size 800x400 with 2 Axes>"
      ]
     },
     "metadata": {},
     "output_type": "display_data"
    }
   ],
   "source": [
    "from sklearn.preprocessing import LabelEncoder\n",
    "\n",
    "# Apply label encoding to the categorical columns\n",
    "data_encoded = data.apply(LabelEncoder().fit_transform)\n",
    "\n",
    "# Calculate correlation matrix\n",
    "corr_matrix = data_encoded.corr()\n",
    "\n",
    "# Plot the heatmap\n",
    "plt.figure(figsize=(8, 4))\n",
    "sns.heatmap(corr_matrix, annot=True, cmap='coolwarm')\n",
    "plt.show()\n"
   ]
  },
  {
   "cell_type": "markdown",
   "id": "590394f0-00d7-4006-b0b4-1bcd76a707cb",
   "metadata": {},
   "source": [
    "CONVERTING CATEGORICAL DATA TO NUMERICAL DATA USING LABEL ENCODER"
   ]
  },
  {
   "cell_type": "code",
   "execution_count": 46,
   "id": "5c138351-67ca-4efe-a42f-92a930aa9186",
   "metadata": {},
   "outputs": [
    {
     "name": "stdout",
     "output_type": "stream",
     "text": [
      "Encoded Species Values:\n",
      "[0 1 2]\n"
     ]
    }
   ],
   "source": [
    "# Create a LabelEncoder object\n",
    "le = LabelEncoder()\n",
    "\n",
    "# Encode the 'Species' column to convert the species names to numerical labels\n",
    "data['species'] = le.fit_transform(data['species'])\n",
    "\n",
    "# Check the unique values in the 'Species' column after encoding\n",
    "unique_species = data['species'].unique()\n",
    "\n",
    "# Display the unique encoded values\n",
    "print(\"Encoded Species Values:\")\n",
    "print(unique_species) # 'Iris-setosa' == 0, 'Iris-versicolor' == 1, 'Iris-virginica' == 2"
   ]
  },
  {
   "cell_type": "markdown",
   "id": "1f992e27-991d-44ea-986c-1f2c604b5dff",
   "metadata": {},
   "source": [
    "FEATURE ENGINEERING AND DATA PRE-PROCESSING"
   ]
  },
  {
   "cell_type": "code",
   "execution_count": 49,
   "id": "82f3fb60-bb60-4560-bdf3-37eeddefe164",
   "metadata": {},
   "outputs": [
    {
     "data": {
      "text/html": [
       "<div>\n",
       "<style scoped>\n",
       "    .dataframe tbody tr th:only-of-type {\n",
       "        vertical-align: middle;\n",
       "    }\n",
       "\n",
       "    .dataframe tbody tr th {\n",
       "        vertical-align: top;\n",
       "    }\n",
       "\n",
       "    .dataframe thead th {\n",
       "        text-align: right;\n",
       "    }\n",
       "</style>\n",
       "<table border=\"1\" class=\"dataframe\">\n",
       "  <thead>\n",
       "    <tr style=\"text-align: right;\">\n",
       "      <th></th>\n",
       "      <th>sepal_length</th>\n",
       "      <th>sepal_width</th>\n",
       "      <th>petal_length</th>\n",
       "      <th>petal_width</th>\n",
       "      <th>species</th>\n",
       "    </tr>\n",
       "  </thead>\n",
       "  <tbody>\n",
       "    <tr>\n",
       "      <th>0</th>\n",
       "      <td>5.1</td>\n",
       "      <td>3.5</td>\n",
       "      <td>1.4</td>\n",
       "      <td>0.2</td>\n",
       "      <td>0</td>\n",
       "    </tr>\n",
       "    <tr>\n",
       "      <th>1</th>\n",
       "      <td>4.9</td>\n",
       "      <td>3.0</td>\n",
       "      <td>1.4</td>\n",
       "      <td>0.2</td>\n",
       "      <td>0</td>\n",
       "    </tr>\n",
       "    <tr>\n",
       "      <th>2</th>\n",
       "      <td>4.7</td>\n",
       "      <td>3.2</td>\n",
       "      <td>1.3</td>\n",
       "      <td>0.2</td>\n",
       "      <td>0</td>\n",
       "    </tr>\n",
       "    <tr>\n",
       "      <th>3</th>\n",
       "      <td>4.6</td>\n",
       "      <td>3.1</td>\n",
       "      <td>1.5</td>\n",
       "      <td>0.2</td>\n",
       "      <td>0</td>\n",
       "    </tr>\n",
       "    <tr>\n",
       "      <th>4</th>\n",
       "      <td>5.0</td>\n",
       "      <td>3.6</td>\n",
       "      <td>1.4</td>\n",
       "      <td>0.2</td>\n",
       "      <td>0</td>\n",
       "    </tr>\n",
       "  </tbody>\n",
       "</table>\n",
       "</div>"
      ],
      "text/plain": [
       "   sepal_length  sepal_width  petal_length  petal_width  species\n",
       "0           5.1          3.5           1.4          0.2        0\n",
       "1           4.9          3.0           1.4          0.2        0\n",
       "2           4.7          3.2           1.3          0.2        0\n",
       "3           4.6          3.1           1.5          0.2        0\n",
       "4           5.0          3.6           1.4          0.2        0"
      ]
     },
     "execution_count": 49,
     "metadata": {},
     "output_type": "execute_result"
    }
   ],
   "source": [
    "data['species']=le.fit_transform(data['species'])\n",
    "data.head()"
   ]
  },
  {
   "cell_type": "code",
   "execution_count": 51,
   "id": "82461563-b5a4-4512-96d8-ea4662993e8f",
   "metadata": {},
   "outputs": [],
   "source": [
    "from sklearn.model_selection import train_test_split\n",
    "from sklearn.metrics import accuracy_score, confusion_matrix\n",
    "from sklearn.metrics import precision_score\n",
    "from sklearn.metrics import recall_score\n",
    "from sklearn.metrics import f1_score\n",
    "X=data.drop(columns=['species'])\n",
    "Y=data['species']\n",
    "X_train,X_test,Y_train,Y_test=train_test_split(X,Y,test_size=0.30)\n"
   ]
  },
  {
   "cell_type": "markdown",
   "id": "42f074a8-7884-490d-bb69-319edd8480d9",
   "metadata": {},
   "source": [
    "LOGISTIC REGRESSION"
   ]
  },
  {
   "cell_type": "code",
   "execution_count": 54,
   "id": "aec751bc-fa78-48da-b44e-a12c02f4fa80",
   "metadata": {},
   "outputs": [
    {
     "name": "stdout",
     "output_type": "stream",
     "text": [
      "Accuracy: 100.0\n",
      "Confusion Matrix:\n",
      "[[18  0  0]\n",
      " [ 0 12  0]\n",
      " [ 0  0 15]]\n",
      "\n",
      " Score Precision :\n",
      " 100.0\n",
      "\n",
      " Recall Score :\n",
      " 100.0\n",
      "\n",
      " F1 Score :\n",
      " 100.0\n"
     ]
    }
   ],
   "source": [
    "from sklearn.linear_model import LogisticRegression\n",
    "classifier = LogisticRegression(solver='lbfgs', max_iter=1000)\n",
    "classifier.fit(X_train, Y_train)\n",
    "y_pred = classifier.predict(X_test)\n",
    "#Accuracy score\n",
    "accuracy = accuracy_score(Y_test, y_pred) * 100\n",
    "print(\"Accuracy:\", accuracy) \n",
    "\n",
    "#Confusion Matrix\n",
    "confusion_mat = confusion_matrix(Y_test, y_pred)\n",
    "print(\"Confusion Matrix:\")\n",
    "print(confusion_mat)\n",
    "\n",
    "#Precision\n",
    "precision=precision_score(Y_test, y_pred, average='weighted')*100\n",
    "print('\\n Score Precision :\\n',precision )\n",
    "\n",
    "#Recall\n",
    "# Recall = TP / (TP + FN)\n",
    "recall=recall_score(Y_test, y_pred, average='weighted')*100\n",
    "print(\"\\n Recall Score :\\n\", recall)\n",
    "\n",
    "#F1 score\n",
    "fscore=f1_score(Y_test, y_pred, average='weighted')*100\n",
    "print(\"\\n F1 Score :\\n\", fscore)"
   ]
  },
  {
   "cell_type": "markdown",
   "id": "ee76422d-e8b0-4f58-ba6f-21e997cc2c8a",
   "metadata": {},
   "source": [
    "K-NEIGHBORS CLASSIIFIER"
   ]
  },
  {
   "cell_type": "code",
   "execution_count": 57,
   "id": "6423f078-e53c-46e9-ad0d-673c04b0e138",
   "metadata": {},
   "outputs": [
    {
     "name": "stdout",
     "output_type": "stream",
     "text": [
      "Accuracy: 97.77777777777777\n",
      "Confusion Matrix:\n",
      "[[18  0  0]\n",
      " [ 0 12  0]\n",
      " [ 0  1 14]]\n",
      "\n",
      " Score Precision :\n",
      " 97.94871794871796\n",
      "\n",
      " Recall Score :\n",
      " 97.77777777777777\n",
      "\n",
      " F1 Score :\n",
      " 97.78390804597703\n"
     ]
    }
   ],
   "source": [
    "from sklearn.neighbors import KNeighborsClassifier\n",
    "classifier = KNeighborsClassifier()\n",
    "classifier.fit(X_train, Y_train)\n",
    "y_pred = classifier.predict(X_test)\n",
    "#Accuracy score\n",
    "accuracy = accuracy_score(Y_test, y_pred) * 100\n",
    "print(\"Accuracy:\", accuracy) \n",
    "\n",
    "#Confusion Matrix\n",
    "confusion_mat = confusion_matrix(Y_test, y_pred)\n",
    "print(\"Confusion Matrix:\")\n",
    "print(confusion_mat)\n",
    "\n",
    "#Precision\n",
    "precision=precision_score(Y_test, y_pred, average='weighted')*100\n",
    "print('\\n Score Precision :\\n',precision )\n",
    "\n",
    "#Recall\n",
    "# Recall = TP / (TP + FN)\n",
    "recall=recall_score(Y_test, y_pred, average='weighted')*100\n",
    "print(\"\\n Recall Score :\\n\", recall)\n",
    "\n",
    "#F1 score\n",
    "fscore=f1_score(Y_test, y_pred, average='weighted')*100\n",
    "print(\"\\n F1 Score :\\n\", fscore)\n"
   ]
  },
  {
   "cell_type": "markdown",
   "id": "14c7d936-d017-465c-a3ce-f015400616c5",
   "metadata": {},
   "source": [
    "DECISION TREE CLASSIFIER"
   ]
  },
  {
   "cell_type": "code",
   "execution_count": 60,
   "id": "322eec53-ea31-46e2-a099-942c0f052466",
   "metadata": {},
   "outputs": [
    {
     "name": "stdout",
     "output_type": "stream",
     "text": [
      "Accuracy: 93.33333333333333\n",
      "Confusion Matrix:\n",
      "[[18  0  0]\n",
      " [ 0 12  0]\n",
      " [ 0  3 12]]\n",
      "\n",
      " Score Precision :\n",
      " 94.66666666666667\n",
      "\n",
      " Recall Score :\n",
      " 93.33333333333333\n",
      "\n",
      " F1 Score :\n",
      " 93.33333333333333\n"
     ]
    }
   ],
   "source": [
    "from sklearn.tree import DecisionTreeClassifier\n",
    "classifier = DecisionTreeClassifier()\n",
    "classifier.fit(X_train, Y_train)\n",
    "y_pred = classifier.predict(X_test)\n",
    "#Accuracy score\n",
    "accuracy = accuracy_score(Y_test, y_pred) * 100\n",
    "print(\"Accuracy:\", accuracy) \n",
    "\n",
    "#Confusion Matrix\n",
    "confusion_mat = confusion_matrix(Y_test, y_pred)\n",
    "print(\"Confusion Matrix:\")\n",
    "print(confusion_mat)\n",
    "\n",
    "#Precision\n",
    "precision=precision_score(Y_test, y_pred, average='weighted')*100\n",
    "print('\\n Score Precision :\\n',precision )\n",
    "\n",
    "#Recall\n",
    "# Recall = TP / (TP + FN)\n",
    "recall=recall_score(Y_test, y_pred, average='weighted')*100\n",
    "print(\"\\n Recall Score :\\n\", recall)\n",
    "\n",
    "#F1 score\n",
    "fscore=f1_score(Y_test, y_pred, average='weighted')*100\n",
    "print(\"\\n F1 Score :\\n\", fscore)"
   ]
  },
  {
   "cell_type": "markdown",
   "id": "ab55914d-97de-4c34-aec1-2cba799c02fa",
   "metadata": {},
   "source": [
    "RANDOM FOREST CLASSIFIER"
   ]
  },
  {
   "cell_type": "code",
   "execution_count": 63,
   "id": "3cb53070-e89d-44e4-b78a-51061e8468c5",
   "metadata": {},
   "outputs": [
    {
     "name": "stdout",
     "output_type": "stream",
     "text": [
      "Accuracy: 97.77777777777777\n",
      "Confusion Matrix:\n",
      "[[18  0  0]\n",
      " [ 0 12  0]\n",
      " [ 0  1 14]]\n",
      "\n",
      " Score Precision :\n",
      " 97.94871794871796\n",
      "\n",
      " Recall Score :\n",
      " 97.77777777777777\n",
      "\n",
      " F1 Score :\n",
      " 97.78390804597703\n"
     ]
    }
   ],
   "source": [
    "from sklearn.ensemble import RandomForestClassifier\n",
    "classifier = RandomForestClassifier()\n",
    "classifier.fit(X_train, Y_train)\n",
    "y_pred = classifier.predict(X_test)\n",
    "#Accuracy score\n",
    "accuracy = accuracy_score(Y_test, y_pred) * 100\n",
    "print(\"Accuracy:\", accuracy) \n",
    "\n",
    "#Confusion Matrix\n",
    "confusion_mat = confusion_matrix(Y_test, y_pred)\n",
    "print(\"Confusion Matrix:\")\n",
    "print(confusion_mat)\n",
    "\n",
    "#Precision\n",
    "precision=precision_score(Y_test, y_pred, average='weighted')*100\n",
    "print('\\n Score Precision :\\n',precision )\n",
    "\n",
    "#Recall\n",
    "# Recall = TP / (TP + FN)\n",
    "recall=recall_score(Y_test, y_pred, average='weighted')*100\n",
    "print(\"\\n Recall Score :\\n\", recall)\n",
    "\n",
    "#F1 score\n",
    "fscore=f1_score(Y_test, y_pred, average='weighted')*100\n",
    "print(\"\\n F1 Score :\\n\", fscore)"
   ]
  },
  {
   "cell_type": "markdown",
   "id": "5dbc49cf-bb93-494f-9129-11b302f11b4d",
   "metadata": {},
   "source": [
    "SUPPORT VECTOR CLASSIFIER"
   ]
  },
  {
   "cell_type": "code",
   "execution_count": 66,
   "id": "b17cfdff-c820-4794-b153-bd715bffd701",
   "metadata": {},
   "outputs": [
    {
     "name": "stdout",
     "output_type": "stream",
     "text": [
      "Accuracy: 100.0\n",
      "Confusion Matrix:\n",
      "[[18  0  0]\n",
      " [ 0 12  0]\n",
      " [ 0  0 15]]\n",
      "\n",
      " Score Precision :\n",
      " 100.0\n",
      "\n",
      " Recall Score :\n",
      " 100.0\n",
      "\n",
      " F1 Score :\n",
      " 100.0\n"
     ]
    }
   ],
   "source": [
    "from sklearn.svm import SVC\n",
    "classifier = SVC(kernel='linear')\n",
    "classifier.fit(X_train, Y_train)\n",
    "y_pred = classifier.predict(X_test)\n",
    "#Accuracy score\n",
    "accuracy = accuracy_score(Y_test, y_pred) * 100\n",
    "print(\"Accuracy:\", accuracy) \n",
    "\n",
    "#Confusion Matrix\n",
    "confusion_mat = confusion_matrix(Y_test, y_pred)\n",
    "print(\"Confusion Matrix:\")\n",
    "print(confusion_mat)\n",
    "\n",
    "#Precision\n",
    "precision=precision_score(Y_test, y_pred, average='weighted')*100\n",
    "print('\\n Score Precision :\\n',precision )\n",
    "\n",
    "#Recall\n",
    "# Recall = TP / (TP + FN)\n",
    "recall=recall_score(Y_test, y_pred, average='weighted')*100\n",
    "print(\"\\n Recall Score :\\n\", recall)\n",
    "\n",
    "#F1 score\n",
    "fscore=f1_score(Y_test, y_pred, average='weighted')*100\n",
    "print(\"\\n F1 Score :\\n\", fscore)"
   ]
  },
  {
   "cell_type": "markdown",
   "id": "ecd2db44-288f-46a1-bff0-8382aabd671f",
   "metadata": {},
   "source": [
    "GAUSSAIN NAIVE BAYES"
   ]
  },
  {
   "cell_type": "code",
   "execution_count": 69,
   "id": "227bcafb-9b6e-4d18-b299-623b4c5032aa",
   "metadata": {},
   "outputs": [
    {
     "name": "stdout",
     "output_type": "stream",
     "text": [
      "Accuracy: 100.0\n",
      "Confusion Matrix:\n",
      "[[18  0  0]\n",
      " [ 0 12  0]\n",
      " [ 0  0 15]]\n",
      "\n",
      " Score Precision :\n",
      " 100.0\n",
      "\n",
      " Recall Score :\n",
      " 100.0\n",
      "\n",
      " F1 Score :\n",
      " 100.0\n"
     ]
    }
   ],
   "source": [
    "from sklearn.naive_bayes import GaussianNB\n",
    "classifier = GaussianNB()\n",
    "classifier.fit(X_train, Y_train)\n",
    "y_pred = classifier.predict(X_test)\n",
    "#Accuracy score\n",
    "accuracy = accuracy_score(Y_test, y_pred) * 100\n",
    "print(\"Accuracy:\", accuracy) \n",
    "\n",
    "#Confusion Matrix\n",
    "confusion_mat = confusion_matrix(Y_test, y_pred)\n",
    "print(\"Confusion Matrix:\")\n",
    "print(confusion_mat)\n",
    "\n",
    "#Precision\n",
    "precision=precision_score(Y_test, y_pred, average='weighted')*100\n",
    "print('\\n Score Precision :\\n',precision )\n",
    "\n",
    "#Recall\n",
    "# Recall = TP / (TP + FN)\n",
    "recall=recall_score(Y_test, y_pred, average='weighted')*100\n",
    "print(\"\\n Recall Score :\\n\", recall)\n",
    "\n",
    "#F1 score\n",
    "fscore=f1_score(Y_test, y_pred, average='weighted')*100\n",
    "print(\"\\n F1 Score :\\n\", fscore)\n"
   ]
  },
  {
   "cell_type": "markdown",
   "id": "d217c678-8eb7-4522-b3ed-fb99992a24fc",
   "metadata": {},
   "source": [
    "XG BOOST"
   ]
  },
  {
   "cell_type": "code",
   "execution_count": 72,
   "id": "f042a3f7-2ffe-40a5-8ea3-45a5ba6aaae8",
   "metadata": {},
   "outputs": [
    {
     "name": "stdout",
     "output_type": "stream",
     "text": [
      "Accuracy: 91.11111111111111\n",
      "Confusion Matrix:\n",
      "[[18  0  0]\n",
      " [ 1 11  0]\n",
      " [ 0  3 12]]\n",
      "\n",
      " Score Precision :\n",
      " 92.18045112781954\n",
      "\n",
      " Recall Score :\n",
      " 91.11111111111111\n",
      "\n",
      " F1 Score :\n",
      " 91.11265111265112\n"
     ]
    }
   ],
   "source": [
    "import xgboost as xgb\n",
    "classifier = xgb.XGBClassifier()\n",
    "classifier.fit(X_train, Y_train)\n",
    "y_pred = classifier.predict(X_test)\n",
    "#Accuracy score\n",
    "accuracy = accuracy_score(Y_test, y_pred) * 100\n",
    "print(\"Accuracy:\", accuracy) \n",
    "\n",
    "#Confusion Matrix\n",
    "confusion_mat = confusion_matrix(Y_test, y_pred)\n",
    "print(\"Confusion Matrix:\")\n",
    "print(confusion_mat)\n",
    "\n",
    "#Precision\n",
    "precision=precision_score(Y_test, y_pred, average='weighted')*100\n",
    "print('\\n Score Precision :\\n',precision )\n",
    "\n",
    "#Recall\n",
    "# Recall = TP / (TP + FN)\n",
    "recall=recall_score(Y_test, y_pred, average='weighted')*100\n",
    "print(\"\\n Recall Score :\\n\", recall)\n",
    "\n",
    "#F1 score\n",
    "fscore=f1_score(Y_test, y_pred, average='weighted')*100\n",
    "print(\"\\n F1 Score :\\n\", fscore)"
   ]
  },
  {
   "cell_type": "code",
   "execution_count": null,
   "id": "eba94703-a6aa-489b-b9a3-a753fd0ee93b",
   "metadata": {},
   "outputs": [],
   "source": []
  }
 ],
 "metadata": {
  "kernelspec": {
   "display_name": "Python 3 (ipykernel)",
   "language": "python",
   "name": "python3"
  },
  "language_info": {
   "codemirror_mode": {
    "name": "ipython",
    "version": 3
   },
   "file_extension": ".py",
   "mimetype": "text/x-python",
   "name": "python",
   "nbconvert_exporter": "python",
   "pygments_lexer": "ipython3",
   "version": "3.11.7"
  }
 },
 "nbformat": 4,
 "nbformat_minor": 5
}
